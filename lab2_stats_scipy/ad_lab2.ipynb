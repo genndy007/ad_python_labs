{
 "cells": [
  {
   "cell_type": "markdown",
   "source": [
    "# Lab Work 2. Statistical data analysis"
   ],
   "metadata": {}
  },
  {
   "cell_type": "markdown",
   "source": [
    "# TaskSet 6. Birthweight dataset"
   ],
   "metadata": {}
  },
  {
   "cell_type": "markdown",
   "source": [
    "## Prepare dataset and libs"
   ],
   "metadata": {}
  },
  {
   "cell_type": "code",
   "execution_count": 6,
   "source": [
    "from scipy import stats\n",
    "import pandas as pd\n",
    "import numpy as np\n",
    "import matplotlib.pyplot as plt\n",
    "import seaborn as sns\n",
    "\n",
    "np.random.seed(6)     # set random generator\n",
    "plt.rcParams['figure.figsize'] = (20, 8)    # set figure size for plot\n",
    "pd.options.display.float_format = \"{:,.3f}\".format    # set floating numbers output style\n",
    "\n",
    "file_path = './Birthweight.csv'\n",
    "df = pd.read_csv(file_path, index_col='ID')    # read dataset into dataframe\n",
    "df.describe()\n"
   ],
   "outputs": [
    {
     "output_type": "execute_result",
     "data": {
      "text/plain": [
       "       Length  Birthweight  Headcirc  Gestation  smoker   mage  mnocig  \\\n",
       "count  42.000       42.000    42.000     42.000  42.000 42.000  42.000   \n",
       "mean   51.333        3.313    34.595     39.190   0.524 25.548   9.429   \n",
       "std     2.936        0.604     2.400      2.643   0.505  5.666  12.512   \n",
       "min    43.000        1.920    30.000     33.000   0.000 18.000   0.000   \n",
       "25%    50.000        2.940    33.000     38.000   0.000 20.250   0.000   \n",
       "50%    52.000        3.295    34.000     39.500   1.000 24.000   4.500   \n",
       "75%    53.000        3.647    36.000     41.000   1.000 29.000  15.750   \n",
       "max    58.000        4.570    39.000     45.000   1.000 41.000  50.000   \n",
       "\n",
       "       mheight  mppwt   fage  fedyrs  fnocig  fheight  lowbwt  mage35  \n",
       "count   42.000 42.000 42.000  42.000  42.000   42.000  42.000  42.000  \n",
       "mean   164.452 57.500 28.905  13.667  17.190  180.500   0.143   0.095  \n",
       "std      6.504  7.198  6.864   2.160  17.308    6.978   0.354   0.297  \n",
       "min    149.000 45.000 19.000  10.000   0.000  169.000   0.000   0.000  \n",
       "25%    161.000 52.250 23.000  12.000   0.000  175.250   0.000   0.000  \n",
       "50%    164.500 57.000 29.500  14.000  18.500  180.500   0.000   0.000  \n",
       "75%    169.500 62.000 32.000  16.000  25.000  184.750   0.000   0.000  \n",
       "max    181.000 78.000 46.000  16.000  50.000  200.000   1.000   1.000  "
      ],
      "text/html": [
       "<div>\n",
       "<style scoped>\n",
       "    .dataframe tbody tr th:only-of-type {\n",
       "        vertical-align: middle;\n",
       "    }\n",
       "\n",
       "    .dataframe tbody tr th {\n",
       "        vertical-align: top;\n",
       "    }\n",
       "\n",
       "    .dataframe thead th {\n",
       "        text-align: right;\n",
       "    }\n",
       "</style>\n",
       "<table border=\"1\" class=\"dataframe\">\n",
       "  <thead>\n",
       "    <tr style=\"text-align: right;\">\n",
       "      <th></th>\n",
       "      <th>Length</th>\n",
       "      <th>Birthweight</th>\n",
       "      <th>Headcirc</th>\n",
       "      <th>Gestation</th>\n",
       "      <th>smoker</th>\n",
       "      <th>mage</th>\n",
       "      <th>mnocig</th>\n",
       "      <th>mheight</th>\n",
       "      <th>mppwt</th>\n",
       "      <th>fage</th>\n",
       "      <th>fedyrs</th>\n",
       "      <th>fnocig</th>\n",
       "      <th>fheight</th>\n",
       "      <th>lowbwt</th>\n",
       "      <th>mage35</th>\n",
       "    </tr>\n",
       "  </thead>\n",
       "  <tbody>\n",
       "    <tr>\n",
       "      <th>count</th>\n",
       "      <td>42.000</td>\n",
       "      <td>42.000</td>\n",
       "      <td>42.000</td>\n",
       "      <td>42.000</td>\n",
       "      <td>42.000</td>\n",
       "      <td>42.000</td>\n",
       "      <td>42.000</td>\n",
       "      <td>42.000</td>\n",
       "      <td>42.000</td>\n",
       "      <td>42.000</td>\n",
       "      <td>42.000</td>\n",
       "      <td>42.000</td>\n",
       "      <td>42.000</td>\n",
       "      <td>42.000</td>\n",
       "      <td>42.000</td>\n",
       "    </tr>\n",
       "    <tr>\n",
       "      <th>mean</th>\n",
       "      <td>51.333</td>\n",
       "      <td>3.313</td>\n",
       "      <td>34.595</td>\n",
       "      <td>39.190</td>\n",
       "      <td>0.524</td>\n",
       "      <td>25.548</td>\n",
       "      <td>9.429</td>\n",
       "      <td>164.452</td>\n",
       "      <td>57.500</td>\n",
       "      <td>28.905</td>\n",
       "      <td>13.667</td>\n",
       "      <td>17.190</td>\n",
       "      <td>180.500</td>\n",
       "      <td>0.143</td>\n",
       "      <td>0.095</td>\n",
       "    </tr>\n",
       "    <tr>\n",
       "      <th>std</th>\n",
       "      <td>2.936</td>\n",
       "      <td>0.604</td>\n",
       "      <td>2.400</td>\n",
       "      <td>2.643</td>\n",
       "      <td>0.505</td>\n",
       "      <td>5.666</td>\n",
       "      <td>12.512</td>\n",
       "      <td>6.504</td>\n",
       "      <td>7.198</td>\n",
       "      <td>6.864</td>\n",
       "      <td>2.160</td>\n",
       "      <td>17.308</td>\n",
       "      <td>6.978</td>\n",
       "      <td>0.354</td>\n",
       "      <td>0.297</td>\n",
       "    </tr>\n",
       "    <tr>\n",
       "      <th>min</th>\n",
       "      <td>43.000</td>\n",
       "      <td>1.920</td>\n",
       "      <td>30.000</td>\n",
       "      <td>33.000</td>\n",
       "      <td>0.000</td>\n",
       "      <td>18.000</td>\n",
       "      <td>0.000</td>\n",
       "      <td>149.000</td>\n",
       "      <td>45.000</td>\n",
       "      <td>19.000</td>\n",
       "      <td>10.000</td>\n",
       "      <td>0.000</td>\n",
       "      <td>169.000</td>\n",
       "      <td>0.000</td>\n",
       "      <td>0.000</td>\n",
       "    </tr>\n",
       "    <tr>\n",
       "      <th>25%</th>\n",
       "      <td>50.000</td>\n",
       "      <td>2.940</td>\n",
       "      <td>33.000</td>\n",
       "      <td>38.000</td>\n",
       "      <td>0.000</td>\n",
       "      <td>20.250</td>\n",
       "      <td>0.000</td>\n",
       "      <td>161.000</td>\n",
       "      <td>52.250</td>\n",
       "      <td>23.000</td>\n",
       "      <td>12.000</td>\n",
       "      <td>0.000</td>\n",
       "      <td>175.250</td>\n",
       "      <td>0.000</td>\n",
       "      <td>0.000</td>\n",
       "    </tr>\n",
       "    <tr>\n",
       "      <th>50%</th>\n",
       "      <td>52.000</td>\n",
       "      <td>3.295</td>\n",
       "      <td>34.000</td>\n",
       "      <td>39.500</td>\n",
       "      <td>1.000</td>\n",
       "      <td>24.000</td>\n",
       "      <td>4.500</td>\n",
       "      <td>164.500</td>\n",
       "      <td>57.000</td>\n",
       "      <td>29.500</td>\n",
       "      <td>14.000</td>\n",
       "      <td>18.500</td>\n",
       "      <td>180.500</td>\n",
       "      <td>0.000</td>\n",
       "      <td>0.000</td>\n",
       "    </tr>\n",
       "    <tr>\n",
       "      <th>75%</th>\n",
       "      <td>53.000</td>\n",
       "      <td>3.647</td>\n",
       "      <td>36.000</td>\n",
       "      <td>41.000</td>\n",
       "      <td>1.000</td>\n",
       "      <td>29.000</td>\n",
       "      <td>15.750</td>\n",
       "      <td>169.500</td>\n",
       "      <td>62.000</td>\n",
       "      <td>32.000</td>\n",
       "      <td>16.000</td>\n",
       "      <td>25.000</td>\n",
       "      <td>184.750</td>\n",
       "      <td>0.000</td>\n",
       "      <td>0.000</td>\n",
       "    </tr>\n",
       "    <tr>\n",
       "      <th>max</th>\n",
       "      <td>58.000</td>\n",
       "      <td>4.570</td>\n",
       "      <td>39.000</td>\n",
       "      <td>45.000</td>\n",
       "      <td>1.000</td>\n",
       "      <td>41.000</td>\n",
       "      <td>50.000</td>\n",
       "      <td>181.000</td>\n",
       "      <td>78.000</td>\n",
       "      <td>46.000</td>\n",
       "      <td>16.000</td>\n",
       "      <td>50.000</td>\n",
       "      <td>200.000</td>\n",
       "      <td>1.000</td>\n",
       "      <td>1.000</td>\n",
       "    </tr>\n",
       "  </tbody>\n",
       "</table>\n",
       "</div>"
      ]
     },
     "metadata": {},
     "execution_count": 6
    }
   ],
   "metadata": {}
  },
  {
   "cell_type": "markdown",
   "source": [
    "## Task 1. Find medium length of children"
   ],
   "metadata": {}
  },
  {
   "cell_type": "code",
   "execution_count": 7,
   "source": [
    "df['Length'].mean()"
   ],
   "outputs": [
    {
     "output_type": "execute_result",
     "data": {
      "text/plain": [
       "51.333333333333336"
      ]
     },
     "metadata": {},
     "execution_count": 7
    }
   ],
   "metadata": {}
  },
  {
   "cell_type": "markdown",
   "source": [
    "## Task 2. Check if cigs amount per day is normally distributed"
   ],
   "metadata": {}
  },
  {
   "cell_type": "code",
   "execution_count": 12,
   "source": [
    "# Normal for every entry in dataframe\n",
    "# p-value < 0.05, can be rejected\n",
    "stats.normaltest(df['mnocig'])"
   ],
   "outputs": [
    {
     "output_type": "execute_result",
     "data": {
      "text/plain": [
       "NormaltestResult(statistic=14.17450709587283, pvalue=0.000835689397558462)"
      ]
     },
     "metadata": {},
     "execution_count": 12
    }
   ],
   "metadata": {}
  },
  {
   "cell_type": "code",
   "execution_count": 13,
   "source": [
    "# Normal for entries who smoke\n",
    "# p-value > 0.05, cannot reject hypothesis\n",
    "stats.normaltest(df['mnocig'][df['smoker'] == 1])"
   ],
   "outputs": [
    {
     "output_type": "execute_result",
     "data": {
      "text/plain": [
       "NormaltestResult(statistic=4.6688773439793465, pvalue=0.09686484021681536)"
      ]
     },
     "metadata": {},
     "execution_count": 13
    }
   ],
   "metadata": {}
  },
  {
   "cell_type": "code",
   "execution_count": 25,
   "source": [
    "plt.hist(df['mnocig'], bins=7)\n",
    "plt.xlabel('Number of cigarettes')\n",
    "plt.ylabel('All people')\n",
    "plt.show()"
   ],
   "outputs": [
    {
     "output_type": "display_data",
     "data": {
      "text/plain": [
       "<Figure size 432x288 with 1 Axes>"
      ],
      "image/png": "[encoded data removed]"
     },
     "metadata": {
      "needs_background": "light"
     }
    }
   ],
   "metadata": {}
  },
  {
   "cell_type": "code",
   "execution_count": 26,
   "source": [
    "plt.hist(df['mnocig'][df['smoker'] == 1], bins=7)\n",
    "plt.xlabel('Number of cigarettes')\n",
    "plt.ylabel('Only smokers')\n",
    "plt.show()"
   ],
   "outputs": [
    {
     "output_type": "display_data",
     "data": {
      "text/plain": [
       "<Figure size 432x288 with 1 Axes>"
      ],
      "image/png": "[encoded data removed]"
     },
     "metadata": {
      "needs_background": "light"
     }
    }
   ],
   "metadata": {}
  },
  {
   "cell_type": "markdown",
   "source": [
    "## Task 3. Check if mothers, age > 35, lighter kids"
   ],
   "metadata": {}
  },
  {
   "cell_type": "code",
   "execution_count": 27,
   "source": [
    "# p > 0.05, cannot reject, mothers are normally distributed\n",
    "stats.normaltest(df['mage'])"
   ],
   "outputs": [
    {
     "output_type": "execute_result",
     "data": {
      "text/plain": [
       "NormaltestResult(statistic=4.741367469588506, pvalue=0.09341683209873608)"
      ]
     },
     "metadata": {},
     "execution_count": 27
    }
   ],
   "metadata": {}
  },
  {
   "cell_type": "code",
   "execution_count": 28,
   "source": [
    "# p > 0.05, cannot reject, birthweight is normally distributed\n",
    "stats.normaltest(df[\"Birthweight\"])"
   ],
   "outputs": [
    {
     "output_type": "execute_result",
     "data": {
      "text/plain": [
       "NormaltestResult(statistic=0.1049044833363354, pvalue=0.9488996378374451)"
      ]
     },
     "metadata": {},
     "execution_count": 28
    }
   ],
   "metadata": {}
  },
  {
   "cell_type": "code",
   "execution_count": 29,
   "source": [
    "plt.hist(df[\"Birthweight\"], bins=7)   # looks like normal distribution, p value near 1\n",
    "plt.show()"
   ],
   "outputs": [
    {
     "output_type": "display_data",
     "data": {
      "text/plain": [
       "<Figure size 432x288 with 1 Axes>"
      ],
      "image/png": "[encoded data removed]"
     },
     "metadata": {
      "needs_background": "light"
     }
    }
   ],
   "metadata": {}
  },
  {
   "cell_type": "code",
   "execution_count": 30,
   "source": [
    "# Test that older mothers and younger mothers have same expected values\n",
    "# p value is high, we cannot reject hypothesis\n",
    "stats.ttest_ind(\n",
    "    a=df[\"Birthweight\"][df[\"mage35\"] == 1], \n",
    "    b=df[\"Birthweight\"][df[\"mage35\"] == 0], \n",
    "    alternative=\"greater\"\n",
    ")"
   ],
   "outputs": [
    {
     "output_type": "execute_result",
     "data": {
      "text/plain": [
       "Ttest_indResult(statistic=-0.6931657795371529, pvalue=0.7538945194374619)"
      ]
     },
     "metadata": {},
     "execution_count": 30
    }
   ],
   "metadata": {}
  },
  {
   "cell_type": "markdown",
   "source": [
    "## Task 4. Is there correlation between time of gestation and weight of children"
   ],
   "metadata": {}
  },
  {
   "cell_type": "code",
   "execution_count": 32,
   "source": [
    "# p value > 0.05, cannot reject\n",
    "stats.normaltest(df[\"Gestation\"])"
   ],
   "outputs": [
    {
     "output_type": "execute_result",
     "data": {
      "text/plain": [
       "NormaltestResult(statistic=2.470336463160735, pvalue=0.29078583889150494)"
      ]
     },
     "metadata": {},
     "execution_count": 32
    }
   ],
   "metadata": {}
  },
  {
   "cell_type": "code",
   "execution_count": 35,
   "source": [
    "# Birthweight and gestation are normally distributed, we can do Pearson Correlation Test\n",
    "# Pearson Correlation Coefficient is high, we can say there is correlation \n",
    "corr, non_corr = stats.pearsonr(df[\"Gestation\"], df[\"Birthweight\"])\n",
    "print('Correlation chance:', corr)"
   ],
   "outputs": [
    {
     "output_type": "stream",
     "name": "stdout",
     "text": [
      "Correlation chance: 0.7083028937020828\n"
     ]
    }
   ],
   "metadata": {}
  }
 ],
 "metadata": {
  "orig_nbformat": 4,
  "language_info": {
   "name": "python",
   "version": "3.10.4",
   "mimetype": "text/x-python",
   "codemirror_mode": {
    "name": "ipython",
    "version": 3
   },
   "pygments_lexer": "ipython3",
   "nbconvert_exporter": "python",
   "file_extension": ".py"
  },
  "kernelspec": {
   "name": "python3",
   "display_name": "Python 3.10.2 64-bit"
  },
  "interpreter": {
   "hash": "d2152fd7f0bbc62aa1baff8c990435d1e2c7175d001561303988032604c11a48"
  }
 },
 "nbformat": 4,
 "nbformat_minor": 2
}