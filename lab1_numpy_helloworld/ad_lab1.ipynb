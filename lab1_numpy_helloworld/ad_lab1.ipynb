{
 "cells": [
  {
   "cell_type": "markdown",
   "source": [
    "## Task 1. Generate random and non-random arrays in different ways."
   ],
   "metadata": {}
  },
  {
   "cell_type": "code",
   "execution_count": 1,
   "source": [
    "import numpy as np"
   ],
   "outputs": [],
   "metadata": {}
  },
  {
   "cell_type": "code",
   "execution_count": 2,
   "source": [
    "a = np.array([[0,0,0,0], [1,1,1,1], [2,2,2,2]])   # auto typed\n",
    "a"
   ],
   "outputs": [
    {
     "output_type": "execute_result",
     "data": {
      "text/plain": [
       "array([[0, 0, 0, 0],\n",
       "       [1, 1, 1, 1],\n",
       "       [2, 2, 2, 2]])"
      ]
     },
     "metadata": {},
     "execution_count": 2
    }
   ],
   "metadata": {}
  },
  {
   "cell_type": "code",
   "execution_count": 3,
   "source": [
    "a = np.array([0,1,0,0], dtype='bool')    # manual type system\n",
    "a"
   ],
   "outputs": [
    {
     "output_type": "execute_result",
     "data": {
      "text/plain": [
       "array([False,  True, False, False])"
      ]
     },
     "metadata": {},
     "execution_count": 3
    }
   ],
   "metadata": {}
  },
  {
   "cell_type": "code",
   "execution_count": 4,
   "source": [
    "a = np.arange(0, 20, 3)    # auto create array with start, stop, step\n",
    "a"
   ],
   "outputs": [
    {
     "output_type": "execute_result",
     "data": {
      "text/plain": [
       "array([ 0,  3,  6,  9, 12, 15, 18])"
      ]
     },
     "metadata": {},
     "execution_count": 4
    }
   ],
   "metadata": {}
  },
  {
   "cell_type": "code",
   "execution_count": 5,
   "source": [
    "a = np.ones(10, dtype=complex)     # auto create array of 1's\n",
    "a"
   ],
   "outputs": [
    {
     "output_type": "execute_result",
     "data": {
      "text/plain": [
       "array([1.+0.j, 1.+0.j, 1.+0.j, 1.+0.j, 1.+0.j, 1.+0.j, 1.+0.j, 1.+0.j,\n",
       "       1.+0.j, 1.+0.j])"
      ]
     },
     "metadata": {},
     "execution_count": 5
    }
   ],
   "metadata": {}
  },
  {
   "cell_type": "code",
   "execution_count": 8,
   "source": [
    "a = np.zeros((2,2,3), dtype=bool)    # auto create array of 0's with shape\n",
    "a"
   ],
   "outputs": [
    {
     "output_type": "execute_result",
     "data": {
      "text/plain": [
       "array([[[False, False, False],\n",
       "        [False, False, False]],\n",
       "\n",
       "       [[False, False, False],\n",
       "        [False, False, False]]])"
      ]
     },
     "metadata": {},
     "execution_count": 8
    }
   ],
   "metadata": {}
  },
  {
   "cell_type": "code",
   "execution_count": 11,
   "source": [
    "a = np.linspace(0, 100, 9)   # proportional array of values\n",
    "a"
   ],
   "outputs": [
    {
     "output_type": "execute_result",
     "data": {
      "text/plain": [
       "array([  0. ,  12.5,  25. ,  37.5,  50. ,  62.5,  75. ,  87.5, 100. ])"
      ]
     },
     "metadata": {},
     "execution_count": 11
    }
   ],
   "metadata": {}
  },
  {
   "cell_type": "code",
   "execution_count": 12,
   "source": [
    "a = np.random.random(5)    # array of random 0to1 values\n",
    "a"
   ],
   "outputs": [
    {
     "output_type": "execute_result",
     "data": {
      "text/plain": [
       "array([0.62268106, 0.38941783, 0.73464668, 0.5086445 , 0.92229549])"
      ]
     },
     "metadata": {},
     "execution_count": 12
    }
   ],
   "metadata": {}
  },
  {
   "cell_type": "code",
   "execution_count": 14,
   "source": [
    "a = np.random.randint(1, 5, 10)    # array of random 1to5 values\n",
    "a"
   ],
   "outputs": [
    {
     "output_type": "execute_result",
     "data": {
      "text/plain": [
       "array([4, 3, 3, 4, 1, 1, 4, 4, 4, 4])"
      ]
     },
     "metadata": {},
     "execution_count": 14
    }
   ],
   "metadata": {}
  },
  {
   "cell_type": "code",
   "execution_count": 15,
   "source": [
    "a = np.empty(10)   # empty array of size 10\n",
    "a"
   ],
   "outputs": [
    {
     "output_type": "execute_result",
     "data": {
      "text/plain": [
       "array([4.67341201e-310, 0.00000000e+000, 0.00000000e+000, 0.00000000e+000,\n",
       "       1.84708169e-104, 2.56945978e+184, 3.21442411e-057, 6.50573416e-091,\n",
       "       4.54973138e+174, 7.05483132e-308])"
      ]
     },
     "metadata": {},
     "execution_count": 15
    }
   ],
   "metadata": {}
  },
  {
   "cell_type": "markdown",
   "source": [
    "## Task 2. Getting array properties, indexation, slicing"
   ],
   "metadata": {}
  },
  {
   "cell_type": "code",
   "execution_count": 36,
   "source": [
    "a = np.array([[0,0,0,0], [1,1,1,1], [2,2,4,3]])\n",
    "print('Number of dimensions: ', a.ndim)\n",
    "print('Shape of array: ', a.shape)\n",
    "print('Type of elements: ', a.dtype)\n",
    "print('Bytesize of array: ', a.nbytes)\n",
    "print('Size of each element: ', a.itemsize)"
   ],
   "outputs": [
    {
     "output_type": "stream",
     "name": "stdout",
     "text": [
      "Number of dimensions:  2\n",
      "Shape of array:  (3, 4)\n",
      "Type of elements:  int64\n",
      "Bytesize of array:  96\n",
      "Size of each element:  8\n"
     ]
    }
   ],
   "metadata": {}
  },
  {
   "cell_type": "code",
   "execution_count": 37,
   "source": [
    "print('First subarray:', a[0])\n",
    "print('Last subarray:', a[-1])\n",
    "print('First element of second subarray:', a[1, 0])\n",
    "print('Slice of last two elements of last subarray:', a[-1, -2:])"
   ],
   "outputs": [
    {
     "output_type": "stream",
     "name": "stdout",
     "text": [
      "First subarray: [0 0 0 0]\n",
      "Last subarray: [2 2 4 3]\n",
      "First element of second subarray: 1\n",
      "Slice of last two elements of last subarray: [4 3]\n"
     ]
    }
   ],
   "metadata": {}
  },
  {
   "cell_type": "markdown",
   "source": [
    "## Task 3. Arithmetic operations on arrays, methods (reduce, accumulate, outer)"
   ],
   "metadata": {}
  },
  {
   "cell_type": "code",
   "execution_count": 47,
   "source": [
    "a = np.array([[1,2,3,4], [5,6,7,8], [3,4,5,6]])\n",
    "print('Increment every element:\\n', a+1)\n",
    "print('Decrement every element:\\n', a-1)\n",
    "print('Double every element:\\n', a*2)\n",
    "print('Divide every element by 2:\\n', a/2)\n",
    "print('Raise to power 2 every element:\\n', a**2)\n",
    "print('Modulo 3 every element:\\n', a%3)\n",
    "print('Negate every element:\\n', -a)"
   ],
   "outputs": [
    {
     "output_type": "stream",
     "name": "stdout",
     "text": [
      "Increment every element:\n",
      " [[2 3 4 5]\n",
      " [6 7 8 9]\n",
      " [4 5 6 7]]\n",
      "Decrement every element:\n",
      " [[0 1 2 3]\n",
      " [4 5 6 7]\n",
      " [2 3 4 5]]\n",
      "Double every element:\n",
      " [[ 2  4  6  8]\n",
      " [10 12 14 16]\n",
      " [ 6  8 10 12]]\n",
      "Divide every element by 2:\n",
      " [[0.5 1.  1.5 2. ]\n",
      " [2.5 3.  3.5 4. ]\n",
      " [1.5 2.  2.5 3. ]]\n",
      "Raise to power 2 every element:\n",
      " [[ 1  4  9 16]\n",
      " [25 36 49 64]\n",
      " [ 9 16 25 36]]\n",
      "Modulo 3 every element:\n",
      " [[1 2 0 1]\n",
      " [2 0 1 2]\n",
      " [0 1 2 0]]\n",
      "Negate every element:\n",
      " [[-1 -2 -3 -4]\n",
      " [-5 -6 -7 -8]\n",
      " [-3 -4 -5 -6]]\n"
     ]
    }
   ],
   "metadata": {}
  },
  {
   "cell_type": "code",
   "execution_count": 60,
   "source": [
    "a = np.arange(0, 101)\n",
    "print('Sum of 0 to 100:', np.add.reduce(a))\n",
    "print('Sum of 0 to 100 with middle results:\\n', np.add.accumulate(a))\n",
    "print('Product of vectors:\\n', np.outer(a, a))"
   ],
   "outputs": [
    {
     "output_type": "stream",
     "name": "stdout",
     "text": [
      "Sum of 0 to 100: 5050\n",
      "Sum of 0 to 100 with middle results:\n",
      " [   0    1    3    6   10   15   21   28   36   45   55   66   78   91\n",
      "  105  120  136  153  171  190  210  231  253  276  300  325  351  378\n",
      "  406  435  465  496  528  561  595  630  666  703  741  780  820  861\n",
      "  903  946  990 1035 1081 1128 1176 1225 1275 1326 1378 1431 1485 1540\n",
      " 1596 1653 1711 1770 1830 1891 1953 2016 2080 2145 2211 2278 2346 2415\n",
      " 2485 2556 2628 2701 2775 2850 2926 3003 3081 3160 3240 3321 3403 3486\n",
      " 3570 3655 3741 3828 3916 4005 4095 4186 4278 4371 4465 4560 4656 4753\n",
      " 4851 4950 5050]\n",
      "Product of vectors:\n",
      " [[    0     0     0 ...     0     0     0]\n",
      " [    0     1     2 ...    98    99   100]\n",
      " [    0     2     4 ...   196   198   200]\n",
      " ...\n",
      " [    0    98   196 ...  9604  9702  9800]\n",
      " [    0    99   198 ...  9702  9801  9900]\n",
      " [    0   100   200 ...  9800  9900 10000]]\n"
     ]
    }
   ],
   "metadata": {}
  },
  {
   "cell_type": "markdown",
   "source": [
    "## Task 4. Array statistics with pandas csv"
   ],
   "metadata": {}
  },
  {
   "cell_type": "code",
   "execution_count": 74,
   "source": [
    "import pandas as pd\n",
    "file_path = './iris.csv'\n",
    "data = pd.read_csv(file_path)\n",
    "width_arr = np.array(data['petal_width'])\n",
    "width_arr"
   ],
   "outputs": [
    {
     "output_type": "execute_result",
     "data": {
      "text/plain": [
       "[0.1,\n",
       " 0.1,\n",
       " 0.1,\n",
       " 0.1,\n",
       " 0.1,\n",
       " 0.1,\n",
       " 0.2,\n",
       " 0.2,\n",
       " 0.2,\n",
       " 0.2,\n",
       " 0.2,\n",
       " 0.2,\n",
       " 0.2,\n",
       " 0.2,\n",
       " 0.2,\n",
       " 0.2,\n",
       " 0.2,\n",
       " 0.2,\n",
       " 0.2,\n",
       " 0.2,\n",
       " 0.2,\n",
       " 0.2,\n",
       " 0.2,\n",
       " 0.2,\n",
       " 0.2,\n",
       " 0.2,\n",
       " 0.2,\n",
       " 0.2,\n",
       " 0.2,\n",
       " 0.2,\n",
       " 0.2,\n",
       " 0.2,\n",
       " 0.2,\n",
       " 0.2,\n",
       " 0.3,\n",
       " 0.3,\n",
       " 0.3,\n",
       " 0.3,\n",
       " 0.3,\n",
       " 0.3,\n",
       " 0.3,\n",
       " 0.4,\n",
       " 0.4,\n",
       " 0.4,\n",
       " 0.4,\n",
       " 0.4,\n",
       " 0.4,\n",
       " 0.4,\n",
       " 0.5,\n",
       " 0.6,\n",
       " 1.0,\n",
       " 1.0,\n",
       " 1.0,\n",
       " 1.0,\n",
       " 1.0,\n",
       " 1.0,\n",
       " 1.0,\n",
       " 1.1,\n",
       " 1.1,\n",
       " 1.1,\n",
       " 1.2,\n",
       " 1.2,\n",
       " 1.2,\n",
       " 1.2,\n",
       " 1.2,\n",
       " 1.3,\n",
       " 1.3,\n",
       " 1.3,\n",
       " 1.3,\n",
       " 1.3,\n",
       " 1.3,\n",
       " 1.3,\n",
       " 1.3,\n",
       " 1.3,\n",
       " 1.3,\n",
       " 1.3,\n",
       " 1.3,\n",
       " 1.3,\n",
       " 1.4,\n",
       " 1.4,\n",
       " 1.4,\n",
       " 1.4,\n",
       " 1.4,\n",
       " 1.4,\n",
       " 1.4,\n",
       " 1.4,\n",
       " 1.5,\n",
       " 1.5,\n",
       " 1.5,\n",
       " 1.5,\n",
       " 1.5,\n",
       " 1.5,\n",
       " 1.5,\n",
       " 1.5,\n",
       " 1.5,\n",
       " 1.5,\n",
       " 1.5,\n",
       " 1.5,\n",
       " 1.6,\n",
       " 1.6,\n",
       " 1.6,\n",
       " 1.6,\n",
       " 1.7,\n",
       " 1.7,\n",
       " 1.8,\n",
       " 1.8,\n",
       " 1.8,\n",
       " 1.8,\n",
       " 1.8,\n",
       " 1.8,\n",
       " 1.8,\n",
       " 1.8,\n",
       " 1.8,\n",
       " 1.8,\n",
       " 1.8,\n",
       " 1.8,\n",
       " 1.9,\n",
       " 1.9,\n",
       " 1.9,\n",
       " 1.9,\n",
       " 1.9,\n",
       " 2.0,\n",
       " 2.0,\n",
       " 2.0,\n",
       " 2.0,\n",
       " 2.0,\n",
       " 2.0,\n",
       " 2.1,\n",
       " 2.1,\n",
       " 2.1,\n",
       " 2.1,\n",
       " 2.1,\n",
       " 2.1,\n",
       " 2.2,\n",
       " 2.2,\n",
       " 2.2,\n",
       " 2.3,\n",
       " 2.3,\n",
       " 2.3,\n",
       " 2.3,\n",
       " 2.3,\n",
       " 2.3,\n",
       " 2.3,\n",
       " 2.3,\n",
       " 2.4,\n",
       " 2.4,\n",
       " 2.4,\n",
       " 2.5,\n",
       " 2.5,\n",
       " 2.5]"
      ]
     },
     "metadata": {},
     "execution_count": 74
    }
   ],
   "metadata": {}
  },
  {
   "cell_type": "code",
   "execution_count": 77,
   "source": [
    "print('Minimal width:', np.min(width_arr))\n",
    "print('Maximal width:', np.max(width_arr))\n",
    "print('Medium value:', np.mean(width_arr))\n",
    "print('Standard deviation:', np.std(width_arr))\n",
    "print('Dispersion:', np.var(width_arr))\n",
    "print('Median:', np.median(width_arr))\n",
    "print('Percentile 25:', np.percentile(width_arr, 25))\n",
    "print('Percentile 75:', np.percentile(width_arr, 75))"
   ],
   "outputs": [
    {
     "output_type": "stream",
     "name": "stdout",
     "text": [
      "Minimal width: 0.1\n",
      "Maximal width: 2.5\n",
      "Medium value: 1.1986666666666668\n",
      "Standard deviation: 0.7606126185881716\n",
      "Dispersion: 0.5785315555555555\n",
      "Median: 1.3\n",
      "Percentile 25: 0.3\n",
      "Percentile 75: 1.8\n"
     ]
    }
   ],
   "metadata": {}
  }
 ],
 "metadata": {
  "orig_nbformat": 4,
  "language_info": {
   "name": "python",
   "version": "3.10.4",
   "mimetype": "text/x-python",
   "codemirror_mode": {
    "name": "ipython",
    "version": 3
   },
   "pygments_lexer": "ipython3",
   "nbconvert_exporter": "python",
   "file_extension": ".py"
  },
  "kernelspec": {
   "name": "python3",
   "display_name": "Python 3.10.2 64-bit"
  },
  "interpreter": {
   "hash": "e7370f93d1d0cde622a1f8e1c04877d8463912d04d973331ad4851f04de6915a"
  }
 },
 "nbformat": 4,
 "nbformat_minor": 2
}